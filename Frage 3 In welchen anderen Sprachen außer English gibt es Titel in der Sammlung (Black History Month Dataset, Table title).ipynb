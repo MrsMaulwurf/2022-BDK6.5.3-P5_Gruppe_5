{
 "cells": [
  {
   "cell_type": "code",
   "execution_count": 10,
   "id": "78774543",
   "metadata": {},
   "outputs": [],
   "source": [
    "import urllib.request\n",
    "import pandas as pd\n",
    "\n",
    "#pandas importieren"
   ]
  },
  {
   "cell_type": "code",
   "execution_count": 11,
   "id": "06e0738d",
   "metadata": {},
   "outputs": [],
   "source": [
    "url = \"https://raw.githubusercontent.com/MrsMaulwurf/2022-BDK6.5.3-P5_Gruppe_5/main/titles.csv\"\n",
    "# Variable url einführen mit Wert Link zur csv-Datei in GitHub\n",
    "\n",
    "title_file = \"titles_black_history_month.csv\"\n",
    "#Variable title_file einführen"
   ]
  },
  {
   "cell_type": "code",
   "execution_count": null,
   "id": "8c98562f",
   "metadata": {},
   "outputs": [],
   "source": [
    "urllib.request.urlretrieve(url, title_file)\n",
    "\n",
    "# library urllib und modul request mit methode urlretrieve (mit den 2 Argumenten für Start und Ziel)"
   ]
  },
  {
   "cell_type": "code",
   "execution_count": null,
   "id": "9ff0fcff",
   "metadata": {},
   "outputs": [],
   "source": [
    "titles = pd.read_csv(title_file)\n",
    "# csv einlesen und dataframe erzeugen"
   ]
  },
  {
   "cell_type": "code",
   "execution_count": null,
   "id": "984e6909",
   "metadata": {},
   "outputs": [],
   "source": [
    "titles"
   ]
  },
  {
   "cell_type": "code",
   "execution_count": null,
   "id": "f5928a58",
   "metadata": {},
   "outputs": [],
   "source": [
    "# commit dataframe erzeugen"
   ]
  },
  {
   "cell_type": "code",
   "execution_count": null,
   "id": "637a8680",
   "metadata": {},
   "outputs": [],
   "source": [
    "titles.columns \n",
    "# gibt spaltennamen aus"
   ]
  },
  {
   "cell_type": "code",
   "execution_count": null,
   "id": "b8d9e32e",
   "metadata": {},
   "outputs": [],
   "source": [
    "titles[\"Languages\"]\n",
    "# gibt Spalte \"languages\" aus"
   ]
  },
  {
   "cell_type": "code",
   "execution_count": null,
   "id": "bc900e99",
   "metadata": {},
   "outputs": [],
   "source": [
    "# commit spalte auswählen"
   ]
  },
  {
   "cell_type": "code",
   "execution_count": null,
   "id": "41b9c157",
   "metadata": {},
   "outputs": [],
   "source": [
    "# commit Spalteninhalt in mehrere Spalten aufteilen, da teilweise mehrere Sprachen in einer Spalte genannt werden\n",
    "# es entstehen neue Spalte Language 2, Language 3"
   ]
  },
  {
   "cell_type": "code",
   "execution_count": null,
   "id": "9d3024b1",
   "metadata": {},
   "outputs": [],
   "source": [
    "# commit Inhalte der Spalten Language, Language 2 und Language 3 in eine Spalte zusammenführen, sodass die Einträge untereinander stehen"
   ]
  },
  {
   "cell_type": "code",
   "execution_count": null,
   "id": "216d066b",
   "metadata": {},
   "outputs": [],
   "source": [
    "# commit Inhalte gruppieren"
   ]
  },
  {
   "cell_type": "code",
   "execution_count": null,
   "id": "f240efbb",
   "metadata": {},
   "outputs": [],
   "source": [
    "# commit Inhalte zählen"
   ]
  },
  {
   "cell_type": "code",
   "execution_count": null,
   "id": "556dee88",
   "metadata": {},
   "outputs": [],
   "source": [
    "# comit Inhalte ordnen, sodass die 10 häufigsten Sprachen an den ersten Stellen stehen"
   ]
  },
  {
   "cell_type": "code",
   "execution_count": null,
   "id": "492f6ec8",
   "metadata": {},
   "outputs": [],
   "source": [
    "# commit Visualisierung"
   ]
  }
 ],
 "metadata": {
  "kernelspec": {
   "display_name": "Python 3 (ipykernel)",
   "language": "python",
   "name": "python3"
  },
  "language_info": {
   "codemirror_mode": {
    "name": "ipython",
    "version": 3
   },
   "file_extension": ".py",
   "mimetype": "text/x-python",
   "name": "python",
   "nbconvert_exporter": "python",
   "pygments_lexer": "ipython3",
   "version": "3.9.7"
  }
 },
 "nbformat": 4,
 "nbformat_minor": 5
}
