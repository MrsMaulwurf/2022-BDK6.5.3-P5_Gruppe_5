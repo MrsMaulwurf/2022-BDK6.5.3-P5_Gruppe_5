{
 "cells": [
  {
   "cell_type": "markdown",
   "id": "09a926a1",
   "metadata": {},
   "source": [
    "# Frage 3 \n",
    "\n",
    "# In welchen anderen Sprachen außer English gibt es Titel in der Sammlung? (Black History Month Dataset, Table title)"
   ]
  },
  {
   "cell_type": "code",
   "execution_count": 2,
   "id": "88dfa91a",
   "metadata": {},
   "outputs": [],
   "source": [
    "import urllib.request\n",
    "import pandas as pd\n",
    "# Pandas zur Datenanalyse importieren"
   ]
  },
  {
   "cell_type": "code",
   "execution_count": 3,
   "id": "06e0738d",
   "metadata": {},
   "outputs": [],
   "source": [
    "url = \"https://raw.githubusercontent.com/MrsMaulwurf/2022-BDK6.5.3-P5_Gruppe_5/main/titles.csv\"\n",
    "# Variable url einführen mit Wert Link zur csv-Datei in GitHub\n",
    "\n",
    "title_file = \"titles_black_history_month.csv\"\n",
    "# Variable title_file einführen"
   ]
  },
  {
   "cell_type": "code",
   "execution_count": 4,
   "id": "8c98562f",
   "metadata": {},
   "outputs": [
    {
     "data": {
      "text/plain": [
       "('titles_black_history_month.csv', <http.client.HTTPMessage at 0x1be0cf0ed00>)"
      ]
     },
     "execution_count": 4,
     "metadata": {},
     "output_type": "execute_result"
    }
   ],
   "source": [
    "urllib.request.urlretrieve(url, title_file)\n",
    "\n",
    "# library urllib und modul request mit methode urlretrieve (mit den 2 Argumenten für Start und Ziel)"
   ]
  },
  {
   "cell_type": "code",
   "execution_count": 5,
   "id": "9ff0fcff",
   "metadata": {},
   "outputs": [],
   "source": [
    "titles = pd.read_csv(title_file)\n",
    "# Csv einlesen und Dataframe zur weiteren Bearbeitung erzeugen"
   ]
  },
  {
   "cell_type": "code",
   "execution_count": 6,
   "id": "984e6909",
   "metadata": {},
   "outputs": [
    {
     "data": {
      "text/html": [
       "<div>\n",
       "<style scoped>\n",
       "    .dataframe tbody tr th:only-of-type {\n",
       "        vertical-align: middle;\n",
       "    }\n",
       "\n",
       "    .dataframe tbody tr th {\n",
       "        vertical-align: top;\n",
       "    }\n",
       "\n",
       "    .dataframe thead th {\n",
       "        text-align: right;\n",
       "    }\n",
       "</style>\n",
       "<table border=\"1\" class=\"dataframe\">\n",
       "  <thead>\n",
       "    <tr style=\"text-align: right;\">\n",
       "      <th></th>\n",
       "      <th>Title</th>\n",
       "      <th>Other titles</th>\n",
       "      <th>BL record ID</th>\n",
       "      <th>Type of resource</th>\n",
       "      <th>Content type</th>\n",
       "      <th>Material type</th>\n",
       "      <th>BNB number</th>\n",
       "      <th>ISBN</th>\n",
       "      <th>Name</th>\n",
       "      <th>Dates associated with name</th>\n",
       "      <th>...</th>\n",
       "      <th>Publisher</th>\n",
       "      <th>Date of publication</th>\n",
       "      <th>Edition</th>\n",
       "      <th>Physical description</th>\n",
       "      <th>Dewey classification</th>\n",
       "      <th>BL shelfmark</th>\n",
       "      <th>Topics</th>\n",
       "      <th>Genre</th>\n",
       "      <th>Languages</th>\n",
       "      <th>Notes</th>\n",
       "    </tr>\n",
       "  </thead>\n",
       "  <tbody>\n",
       "    <tr>\n",
       "      <th>0</th>\n",
       "      <td>#1960now : Photographs of Civil Rights Activis...</td>\n",
       "      <td>Hashtag 1960 now ; Hashtag1960now</td>\n",
       "      <td>19080209</td>\n",
       "      <td>Monograph</td>\n",
       "      <td>Language material ; Still image ; Text</td>\n",
       "      <td>Volume</td>\n",
       "      <td>GBB8I5618</td>\n",
       "      <td>9781452170725</td>\n",
       "      <td>Bright, Sheila Pree</td>\n",
       "      <td>NaN</td>\n",
       "      <td>...</td>\n",
       "      <td>Chronicle</td>\n",
       "      <td>2018</td>\n",
       "      <td>NaN</td>\n",
       "      <td>197 pages, illustrations, 26 cm</td>\n",
       "      <td>323.1196073</td>\n",
       "      <td>YC.2020.b.146</td>\n",
       "      <td>Black lives matter movement--Pictorial works ;...</td>\n",
       "      <td>Pictorial work ; Source</td>\n",
       "      <td>English</td>\n",
       "      <td>NaN</td>\n",
       "    </tr>\n",
       "    <tr>\n",
       "      <th>1</th>\n",
       "      <td>''A free ballot and a fair count'' : the Depar...</td>\n",
       "      <td>NaN</td>\n",
       "      <td>7428837</td>\n",
       "      <td>Monograph</td>\n",
       "      <td>Language material ; Text</td>\n",
       "      <td>Volume</td>\n",
       "      <td>GB9123413</td>\n",
       "      <td>9780824025236</td>\n",
       "      <td>Goldman, Robert M. (Robert Michael)</td>\n",
       "      <td>NaN</td>\n",
       "      <td>...</td>\n",
       "      <td>Garland</td>\n",
       "      <td>1990</td>\n",
       "      <td>NaN</td>\n",
       "      <td>xxvi, 279 pages, 24 cm</td>\n",
       "      <td>324.6208996073075</td>\n",
       "      <td>YC.1991.b.4368</td>\n",
       "      <td>African Americans--Suffrage--Southern States--...</td>\n",
       "      <td>NaN</td>\n",
       "      <td>English</td>\n",
       "      <td>NaN</td>\n",
       "    </tr>\n",
       "    <tr>\n",
       "      <th>2</th>\n",
       "      <td>'6 in the mornin''</td>\n",
       "      <td>'A Milli' ; 'Best I ever had' ; 'Big pimpin'' ...</td>\n",
       "      <td>17470768</td>\n",
       "      <td>Monograph</td>\n",
       "      <td>Language material ; Still image ; Text</td>\n",
       "      <td>Volume</td>\n",
       "      <td>GBB5A4370</td>\n",
       "      <td>9781419718182</td>\n",
       "      <td>Serrano, Shea</td>\n",
       "      <td>NaN</td>\n",
       "      <td>...</td>\n",
       "      <td>Abrams Image</td>\n",
       "      <td>2015</td>\n",
       "      <td>NaN</td>\n",
       "      <td>239 pages, colour illustrations, 23 cm</td>\n",
       "      <td>782.421649</td>\n",
       "      <td>YC.2017.a.3886</td>\n",
       "      <td>Popular music--United States--History and crit...</td>\n",
       "      <td>Caricature or cartoon</td>\n",
       "      <td>English</td>\n",
       "      <td>NaN</td>\n",
       "    </tr>\n",
       "    <tr>\n",
       "      <th>3</th>\n",
       "      <td>'A Milli'</td>\n",
       "      <td>'6 in the mornin'' ; 'Best I ever had' ; 'Big ...</td>\n",
       "      <td>17470768</td>\n",
       "      <td>Monograph</td>\n",
       "      <td>Language material ; Still image ; Text</td>\n",
       "      <td>Volume</td>\n",
       "      <td>GBB5A4370</td>\n",
       "      <td>9781419718182</td>\n",
       "      <td>Serrano, Shea</td>\n",
       "      <td>NaN</td>\n",
       "      <td>...</td>\n",
       "      <td>Abrams Image</td>\n",
       "      <td>2015</td>\n",
       "      <td>NaN</td>\n",
       "      <td>239 pages, colour illustrations, 23 cm</td>\n",
       "      <td>782.421649</td>\n",
       "      <td>YC.2017.a.3886</td>\n",
       "      <td>Popular music--United States--History and crit...</td>\n",
       "      <td>Caricature or cartoon</td>\n",
       "      <td>English</td>\n",
       "      <td>NaN</td>\n",
       "    </tr>\n",
       "    <tr>\n",
       "      <th>4</th>\n",
       "      <td>'A gigantic battle to win men's minds' : the N...</td>\n",
       "      <td>'All shadows are dark' : Walter White, racial ...</td>\n",
       "      <td>15459190</td>\n",
       "      <td>Monograph</td>\n",
       "      <td>Language material ; Text</td>\n",
       "      <td>Volume</td>\n",
       "      <td>NaN</td>\n",
       "      <td>9781557289087 ; 9781557289094</td>\n",
       "      <td>NaN</td>\n",
       "      <td>NaN</td>\n",
       "      <td>...</td>\n",
       "      <td>University of Arkansas Press</td>\n",
       "      <td>2009</td>\n",
       "      <td>NaN</td>\n",
       "      <td>xxviii, 313 pages, 23 cm</td>\n",
       "      <td>973.0496073</td>\n",
       "      <td>m10/.11889</td>\n",
       "      <td>African Americans--Civil rights--History--20th...</td>\n",
       "      <td>NaN</td>\n",
       "      <td>English</td>\n",
       "      <td>Not distributed; available at Arkansas State L...</td>\n",
       "    </tr>\n",
       "    <tr>\n",
       "      <th>...</th>\n",
       "      <td>...</td>\n",
       "      <td>...</td>\n",
       "      <td>...</td>\n",
       "      <td>...</td>\n",
       "      <td>...</td>\n",
       "      <td>...</td>\n",
       "      <td>...</td>\n",
       "      <td>...</td>\n",
       "      <td>...</td>\n",
       "      <td>...</td>\n",
       "      <td>...</td>\n",
       "      <td>...</td>\n",
       "      <td>...</td>\n",
       "      <td>...</td>\n",
       "      <td>...</td>\n",
       "      <td>...</td>\n",
       "      <td>...</td>\n",
       "      <td>...</td>\n",
       "      <td>...</td>\n",
       "      <td>...</td>\n",
       "      <td>...</td>\n",
       "    </tr>\n",
       "    <tr>\n",
       "      <th>7788</th>\n",
       "      <td>‏יהודים ואפרו-אמריקנים בדרום קארולינה במאה ה19</td>\n",
       "      <td>Jews and Afro-Americans in 19th century South ...</td>\n",
       "      <td>20009287</td>\n",
       "      <td>Monograph</td>\n",
       "      <td>Language material ; Text</td>\n",
       "      <td>Volume</td>\n",
       "      <td>NaN</td>\n",
       "      <td>NaN</td>\n",
       "      <td>Lior, Mordechai</td>\n",
       "      <td>NaN</td>\n",
       "      <td>...</td>\n",
       "      <td>Sifre Tsameret ; ‏ספרי צמרת,‏</td>\n",
       "      <td>2017</td>\n",
       "      <td>NaN</td>\n",
       "      <td>180 pages, 21 cm</td>\n",
       "      <td>NaN</td>\n",
       "      <td>YP.2021.a.1053</td>\n",
       "      <td>South Carolina--History--19th century ; South ...</td>\n",
       "      <td>NaN</td>\n",
       "      <td>Hebrew</td>\n",
       "      <td>NaN</td>\n",
       "    </tr>\n",
       "    <tr>\n",
       "      <th>7789</th>\n",
       "      <td>‏מדרגות לגן עדן :‏ : ‏יהודים, שחורים ומהפכת המ...</td>\n",
       "      <td>Madregot le-gan ʿeden : Yehudim, sheḥorim u-ma...</td>\n",
       "      <td>20106377</td>\n",
       "      <td>Monograph</td>\n",
       "      <td>Language material ; Text</td>\n",
       "      <td>Volume</td>\n",
       "      <td>NaN</td>\n",
       "      <td>NaN</td>\n",
       "      <td>Katorza, Ari</td>\n",
       "      <td>NaN</td>\n",
       "      <td>...</td>\n",
       "      <td>Resling ; ‏רסלינג, ‏</td>\n",
       "      <td>2017</td>\n",
       "      <td>NaN</td>\n",
       "      <td>375 pages, 21 cm</td>\n",
       "      <td>NaN</td>\n",
       "      <td>NaN</td>\n",
       "      <td>Popular music--Political aspects ; Popular mus...</td>\n",
       "      <td>History</td>\n",
       "      <td>Hebrew</td>\n",
       "      <td>NaN</td>\n",
       "    </tr>\n",
       "    <tr>\n",
       "      <th>7790</th>\n",
       "      <td>‏קארדוזו :‏ : ‏יהודים ואפרו-אמריקנים בדרום קאר...</td>\n",
       "      <td>Jews and Afro-Americans in 19th century South ...</td>\n",
       "      <td>20009287</td>\n",
       "      <td>Monograph</td>\n",
       "      <td>Language material ; Text</td>\n",
       "      <td>Volume</td>\n",
       "      <td>NaN</td>\n",
       "      <td>NaN</td>\n",
       "      <td>Lior, Mordechai</td>\n",
       "      <td>NaN</td>\n",
       "      <td>...</td>\n",
       "      <td>Sifre Tsameret ; ‏ספרי צמרת,‏</td>\n",
       "      <td>2017</td>\n",
       "      <td>NaN</td>\n",
       "      <td>180 pages, 21 cm</td>\n",
       "      <td>NaN</td>\n",
       "      <td>YP.2021.a.1053</td>\n",
       "      <td>South Carolina--History--19th century ; South ...</td>\n",
       "      <td>NaN</td>\n",
       "      <td>Hebrew</td>\n",
       "      <td>NaN</td>\n",
       "    </tr>\n",
       "    <tr>\n",
       "      <th>7791</th>\n",
       "      <td>アメリカの黒人</td>\n",
       "      <td>Amerika no Kokujin ; Noirs aux États-Unis. Jap...</td>\n",
       "      <td>18338395</td>\n",
       "      <td>Monograph</td>\n",
       "      <td>Language material ; Text</td>\n",
       "      <td>Online resource</td>\n",
       "      <td>NaN</td>\n",
       "      <td>NaN</td>\n",
       "      <td>Fohlen, Claude</td>\n",
       "      <td>NaN</td>\n",
       "      <td>...</td>\n",
       "      <td>Hakusuisha</td>\n",
       "      <td>1967</td>\n",
       "      <td>NaN</td>\n",
       "      <td>1 online resource</td>\n",
       "      <td>NaN</td>\n",
       "      <td>NaN</td>\n",
       "      <td>African Americans--History ; United States--Ra...</td>\n",
       "      <td>History</td>\n",
       "      <td>Japanese</td>\n",
       "      <td>Additional physical form: Print version. Ameri...</td>\n",
       "    </tr>\n",
       "    <tr>\n",
       "      <th>7792</th>\n",
       "      <td>アメリカ南部の法と連邦最高裁</td>\n",
       "      <td>Amerika Nanbu no hō to Renpō Saikōsai ; Law of...</td>\n",
       "      <td>16032726</td>\n",
       "      <td>Monograph</td>\n",
       "      <td>Language material ; Text</td>\n",
       "      <td>Volume</td>\n",
       "      <td>NaN</td>\n",
       "      <td>9784641048065</td>\n",
       "      <td>Katsuta, Takuya</td>\n",
       "      <td>NaN</td>\n",
       "      <td>...</td>\n",
       "      <td>Yūhikaku</td>\n",
       "      <td>2011</td>\n",
       "      <td>NaN</td>\n",
       "      <td>viii, 301 pages, 22 cm</td>\n",
       "      <td>NaN</td>\n",
       "      <td>JPN.2012.a.358</td>\n",
       "      <td>人種差別 -- アメリカ合衆国 (南部) -- 歴史 ; African Americans...</td>\n",
       "      <td>NaN</td>\n",
       "      <td>Japanese</td>\n",
       "      <td>文献:p283-292</td>\n",
       "    </tr>\n",
       "  </tbody>\n",
       "</table>\n",
       "<p>7793 rows × 27 columns</p>\n",
       "</div>"
      ],
      "text/plain": [
       "                                                  Title  \\\n",
       "0     #1960now : Photographs of Civil Rights Activis...   \n",
       "1     ''A free ballot and a fair count'' : the Depar...   \n",
       "2                                    '6 in the mornin''   \n",
       "3                                             'A Milli'   \n",
       "4     'A gigantic battle to win men's minds' : the N...   \n",
       "...                                                 ...   \n",
       "7788     ‏יהודים ואפרו-אמריקנים בדרום קארולינה במאה ה19   \n",
       "7789  ‏מדרגות לגן עדן :‏ : ‏יהודים, שחורים ומהפכת המ...   \n",
       "7790  ‏קארדוזו :‏ : ‏יהודים ואפרו-אמריקנים בדרום קאר...   \n",
       "7791                                            アメリカの黒人   \n",
       "7792                                     アメリカ南部の法と連邦最高裁   \n",
       "\n",
       "                                           Other titles  BL record ID  \\\n",
       "0                     Hashtag 1960 now ; Hashtag1960now      19080209   \n",
       "1                                                   NaN       7428837   \n",
       "2     'A Milli' ; 'Best I ever had' ; 'Big pimpin'' ...      17470768   \n",
       "3     '6 in the mornin'' ; 'Best I ever had' ; 'Big ...      17470768   \n",
       "4     'All shadows are dark' : Walter White, racial ...      15459190   \n",
       "...                                                 ...           ...   \n",
       "7788  Jews and Afro-Americans in 19th century South ...      20009287   \n",
       "7789  Madregot le-gan ʿeden : Yehudim, sheḥorim u-ma...      20106377   \n",
       "7790  Jews and Afro-Americans in 19th century South ...      20009287   \n",
       "7791  Amerika no Kokujin ; Noirs aux États-Unis. Jap...      18338395   \n",
       "7792  Amerika Nanbu no hō to Renpō Saikōsai ; Law of...      16032726   \n",
       "\n",
       "     Type of resource                            Content type  \\\n",
       "0           Monograph  Language material ; Still image ; Text   \n",
       "1           Monograph                Language material ; Text   \n",
       "2           Monograph  Language material ; Still image ; Text   \n",
       "3           Monograph  Language material ; Still image ; Text   \n",
       "4           Monograph                Language material ; Text   \n",
       "...               ...                                     ...   \n",
       "7788        Monograph                Language material ; Text   \n",
       "7789        Monograph                Language material ; Text   \n",
       "7790        Monograph                Language material ; Text   \n",
       "7791        Monograph                Language material ; Text   \n",
       "7792        Monograph                Language material ; Text   \n",
       "\n",
       "        Material type BNB number                           ISBN  \\\n",
       "0              Volume  GBB8I5618                  9781452170725   \n",
       "1              Volume  GB9123413                  9780824025236   \n",
       "2              Volume  GBB5A4370                  9781419718182   \n",
       "3              Volume  GBB5A4370                  9781419718182   \n",
       "4              Volume        NaN  9781557289087 ; 9781557289094   \n",
       "...               ...        ...                            ...   \n",
       "7788           Volume        NaN                            NaN   \n",
       "7789           Volume        NaN                            NaN   \n",
       "7790           Volume        NaN                            NaN   \n",
       "7791  Online resource        NaN                            NaN   \n",
       "7792           Volume        NaN                  9784641048065   \n",
       "\n",
       "                                     Name Dates associated with name  ...  \\\n",
       "0                     Bright, Sheila Pree                        NaN  ...   \n",
       "1     Goldman, Robert M. (Robert Michael)                        NaN  ...   \n",
       "2                           Serrano, Shea                        NaN  ...   \n",
       "3                           Serrano, Shea                        NaN  ...   \n",
       "4                                     NaN                        NaN  ...   \n",
       "...                                   ...                        ...  ...   \n",
       "7788                      Lior, Mordechai                        NaN  ...   \n",
       "7789                         Katorza, Ari                        NaN  ...   \n",
       "7790                      Lior, Mordechai                        NaN  ...   \n",
       "7791                       Fohlen, Claude                        NaN  ...   \n",
       "7792                      Katsuta, Takuya                        NaN  ...   \n",
       "\n",
       "                          Publisher Date of publication Edition  \\\n",
       "0                         Chronicle                2018     NaN   \n",
       "1                           Garland                1990     NaN   \n",
       "2                      Abrams Image                2015     NaN   \n",
       "3                      Abrams Image                2015     NaN   \n",
       "4      University of Arkansas Press                2009     NaN   \n",
       "...                             ...                 ...     ...   \n",
       "7788  Sifre Tsameret ; ‏ספרי צמרת,‏                2017     NaN   \n",
       "7789           Resling ; ‏רסלינג, ‏                2017     NaN   \n",
       "7790  Sifre Tsameret ; ‏ספרי צמרת,‏                2017     NaN   \n",
       "7791                     Hakusuisha                1967     NaN   \n",
       "7792                       Yūhikaku                2011     NaN   \n",
       "\n",
       "                        Physical description Dewey classification  \\\n",
       "0            197 pages, illustrations, 26 cm          323.1196073   \n",
       "1                     xxvi, 279 pages, 24 cm    324.6208996073075   \n",
       "2     239 pages, colour illustrations, 23 cm           782.421649   \n",
       "3     239 pages, colour illustrations, 23 cm           782.421649   \n",
       "4                   xxviii, 313 pages, 23 cm          973.0496073   \n",
       "...                                      ...                  ...   \n",
       "7788                        180 pages, 21 cm                  NaN   \n",
       "7789                        375 pages, 21 cm                  NaN   \n",
       "7790                        180 pages, 21 cm                  NaN   \n",
       "7791                       1 online resource                  NaN   \n",
       "7792                  viii, 301 pages, 22 cm                  NaN   \n",
       "\n",
       "        BL shelfmark                                             Topics  \\\n",
       "0      YC.2020.b.146  Black lives matter movement--Pictorial works ;...   \n",
       "1     YC.1991.b.4368  African Americans--Suffrage--Southern States--...   \n",
       "2     YC.2017.a.3886  Popular music--United States--History and crit...   \n",
       "3     YC.2017.a.3886  Popular music--United States--History and crit...   \n",
       "4         m10/.11889  African Americans--Civil rights--History--20th...   \n",
       "...              ...                                                ...   \n",
       "7788  YP.2021.a.1053  South Carolina--History--19th century ; South ...   \n",
       "7789             NaN  Popular music--Political aspects ; Popular mus...   \n",
       "7790  YP.2021.a.1053  South Carolina--History--19th century ; South ...   \n",
       "7791             NaN  African Americans--History ; United States--Ra...   \n",
       "7792  JPN.2012.a.358  人種差別 -- アメリカ合衆国 (南部) -- 歴史 ; African Americans...   \n",
       "\n",
       "                        Genre Languages  \\\n",
       "0     Pictorial work ; Source   English   \n",
       "1                         NaN   English   \n",
       "2       Caricature or cartoon   English   \n",
       "3       Caricature or cartoon   English   \n",
       "4                         NaN   English   \n",
       "...                       ...       ...   \n",
       "7788                      NaN    Hebrew   \n",
       "7789                  History    Hebrew   \n",
       "7790                      NaN    Hebrew   \n",
       "7791                  History  Japanese   \n",
       "7792                      NaN  Japanese   \n",
       "\n",
       "                                                  Notes  \n",
       "0                                                   NaN  \n",
       "1                                                   NaN  \n",
       "2                                                   NaN  \n",
       "3                                                   NaN  \n",
       "4     Not distributed; available at Arkansas State L...  \n",
       "...                                                 ...  \n",
       "7788                                                NaN  \n",
       "7789                                                NaN  \n",
       "7790                                                NaN  \n",
       "7791  Additional physical form: Print version. Ameri...  \n",
       "7792                                        文献:p283-292  \n",
       "\n",
       "[7793 rows x 27 columns]"
      ]
     },
     "execution_count": 6,
     "metadata": {},
     "output_type": "execute_result"
    }
   ],
   "source": [
    "titles\n",
    "\n",
    "# Aufführung der Metadaten der angegebenen Datei"
   ]
  },
  {
   "cell_type": "code",
   "execution_count": 7,
   "id": "637a8680",
   "metadata": {},
   "outputs": [
    {
     "data": {
      "text/plain": [
       "Index(['Title', 'Other titles', 'BL record ID', 'Type of resource',\n",
       "       'Content type', 'Material type', 'BNB number', 'ISBN', 'Name',\n",
       "       'Dates associated with name', 'Type of name', 'Role', 'All names',\n",
       "       'Series title', 'Number within series', 'Country of publication',\n",
       "       'Place of publication', 'Publisher', 'Date of publication', 'Edition',\n",
       "       'Physical description', 'Dewey classification', 'BL shelfmark',\n",
       "       'Topics', 'Genre', 'Languages', 'Notes'],\n",
       "      dtype='object')"
      ]
     },
     "execution_count": 7,
     "metadata": {},
     "output_type": "execute_result"
    }
   ],
   "source": [
    "titles.columns \n",
    "# Gibt die in der Datei vorhandenen Spaltennamen aus"
   ]
  },
  {
   "cell_type": "code",
   "execution_count": 8,
   "id": "b8d9e32e",
   "metadata": {
    "scrolled": true
   },
   "outputs": [
    {
     "data": {
      "text/plain": [
       "0        English\n",
       "1        English\n",
       "2        English\n",
       "3        English\n",
       "4        English\n",
       "          ...   \n",
       "7788      Hebrew\n",
       "7789      Hebrew\n",
       "7790      Hebrew\n",
       "7791    Japanese\n",
       "7792    Japanese\n",
       "Name: Languages, Length: 7793, dtype: object"
      ]
     },
     "execution_count": 8,
     "metadata": {},
     "output_type": "execute_result"
    }
   ],
   "source": [
    "titles[\"Languages\"]\n",
    "# gibt Spalte \"languages\" aus"
   ]
  },
  {
   "cell_type": "code",
   "execution_count": 9,
   "id": "e8bbb8c6",
   "metadata": {},
   "outputs": [],
   "source": [
    "original_list = titles[\"Languages\"]\n",
    "\n",
    "# Erstellung der Ergebnisliste als seperates Element"
   ]
  },
  {
   "cell_type": "code",
   "execution_count": 29,
   "id": "75841ff4",
   "metadata": {},
   "outputs": [
    {
     "name": "stdout",
     "output_type": "stream",
     "text": [
      "{'English ; Russian', 'Danish ; English', 'Portuguese', 'English ; Spanish', 'Catalan ; Spanish', 'Hungarian', 'English', 'Arabic', 'Hebrew', 'French', 'English ; French', 'Russian', 'Dutch ; English ; French', 'English ; Italian', 'Chinese', 'Japanese', 'Danish', 'Italian', 'German', 'English ; French ; German', 'Bengali ; English', 'Swedish', 'English ; German', 'Spanish'}\n"
     ]
    }
   ],
   "source": [
    "convert_list_to_set = set(original_list)\n",
    "print(convert_list_to_set)\n",
    "\n",
    "# Dublettenbereinigung/Bereinigung von identischen Einträgen mit dem Befehl set()"
   ]
  },
  {
   "cell_type": "code",
   "execution_count": 11,
   "id": "362280a0",
   "metadata": {},
   "outputs": [
    {
     "data": {
      "text/plain": [
       "{'Arabic',\n",
       " 'Bengali ; English',\n",
       " 'Catalan ; Spanish',\n",
       " 'Chinese',\n",
       " 'Danish',\n",
       " 'Danish ; English',\n",
       " 'Dutch ; English ; French',\n",
       " 'English',\n",
       " 'English ; French',\n",
       " 'English ; French ; German',\n",
       " 'English ; German',\n",
       " 'English ; Italian',\n",
       " 'English ; Russian',\n",
       " 'English ; Spanish',\n",
       " 'French',\n",
       " 'German',\n",
       " 'Hebrew',\n",
       " 'Hungarian',\n",
       " 'Italian',\n",
       " 'Japanese',\n",
       " 'Portuguese',\n",
       " 'Russian',\n",
       " 'Spanish',\n",
       " 'Swedish'}"
      ]
     },
     "execution_count": 11,
     "metadata": {},
     "output_type": "execute_result"
    }
   ],
   "source": [
    "convert_list_to_set\n",
    "\n",
    "# Ausgabe der \"bereinigten\" Liste\n",
    "# Es bleiben jedoch Dubletten übrig, da das System Satzzeichen nicht ignoriert"
   ]
  },
  {
   "cell_type": "code",
   "execution_count": 13,
   "id": "3f7ec8bb",
   "metadata": {},
   "outputs": [],
   "source": [
    "list =\"[{'Arabic', 'Catalan ; Spanish', 'Italian', 'English ; Russian', 'English ; French ; German', 'Bengali ; English', 'English ; Italian', 'English', 'French', 'Swedish', 'Japanese', 'Danish ; English', 'English ; Spanish', 'German', 'Dutch ; English ; French', 'Spanish', 'English ; French', 'Portuguese', 'Hungarian', 'Chinese', 'Russian', 'English ; German', 'Hebrew', 'Danish'}]\""
   ]
  },
  {
   "cell_type": "code",
   "execution_count": 14,
   "id": "40ce57f6",
   "metadata": {},
   "outputs": [],
   "source": [
    "clean_list = list.replace(\"English\", \" \")\n",
    "\n",
    "# Entfernung des Elements \"English\" aus der Ergebnisliste mithilfe des Befehls list.replace()\n",
    "# Wir wollen English nicht für unsere Aufgabenlösung berücksichtigen"
   ]
  },
  {
   "cell_type": "code",
   "execution_count": 15,
   "id": "d2027536",
   "metadata": {},
   "outputs": [
    {
     "data": {
      "text/plain": [
       "\"[{'Arabic', 'Catalan ; Spanish', 'Italian', '  ; Russian', '  ; French ; German', 'Bengali ;  ', '  ; Italian', ' ', 'French', 'Swedish', 'Japanese', 'Danish ;  ', '  ; Spanish', 'German', 'Dutch ;   ; French', 'Spanish', '  ; French', 'Portuguese', 'Hungarian', 'Chinese', 'Russian', '  ; German', 'Hebrew', 'Danish'}]\""
      ]
     },
     "execution_count": 15,
     "metadata": {},
     "output_type": "execute_result"
    }
   ],
   "source": [
    "clean_list"
   ]
  },
  {
   "cell_type": "code",
   "execution_count": 37,
   "id": "f6ab19d2",
   "metadata": {},
   "outputs": [
    {
     "name": "stdout",
     "output_type": "stream",
     "text": [
      "Enter a string: [{'Arabic', 'Catalan ; Spanish', 'Italian', '  ; Russian', '  ; French ; German', 'Bengali ;  ', '  ; Italian', ' ', 'French', 'Swedish', 'Japanese', 'Danish ;  ', '  ; Spanish', 'German', 'Dutch ;   ; French', 'Spanish', '  ; French', 'Portuguese', 'Hungarian', 'Chinese', 'Russian', '  ; German', 'Hebrew', 'Danish'}]\n"
     ]
    }
   ],
   "source": [
    "punctuations = '''!()-[]{};:'\"\\,<>./?@#$%^&*_~'''\n",
    "inp_str = input(\"Enter a string: \")\n",
    "\n",
    "# Ein komplexer Befehl der alle Sonder- und Satzzeichen aus einem string bzw. in unserem Fall der Liste entfernt"
   ]
  },
  {
   "cell_type": "code",
   "execution_count": 38,
   "id": "207ad28e",
   "metadata": {},
   "outputs": [],
   "source": [
    "no_punc = \"\"\n",
    "for char in inp_str:\n",
    "   if char not in punctuations:\n",
    "       no_punc = no_punc + char\n",
    "# Ein komplexer Befehl der alle Sonder- und Satzzeichen aus einem string bzw. in unserem Fall der Liste entfernt"
   ]
  },
  {
   "cell_type": "code",
   "execution_count": 39,
   "id": "7e2532ca",
   "metadata": {},
   "outputs": [
    {
     "name": "stdout",
     "output_type": "stream",
     "text": [
      "Arabic Catalan  Spanish Italian    Russian    French  German Bengali       Italian   French Swedish Japanese Danish       Spanish German Dutch     French Spanish    French Portuguese Hungarian Chinese Russian    German Hebrew Danish\n"
     ]
    }
   ],
   "source": [
    "print(no_punc)\n",
    "\n",
    "# Ausgabe der Liste, welche von allen Satzzeichen bereinigt wurde"
   ]
  },
  {
   "cell_type": "code",
   "execution_count": 40,
   "id": "b6975ae3",
   "metadata": {},
   "outputs": [],
   "source": [
    "list_2 = \"Arabic\", \"Catalan\", \"Spanish\", \"Italian\", \"Russian\", \"French\", \"German\", \"Bengali\", \"Italian\", \"French\", \"Swedish\", \"Japanese\", \"Danish\", \"Spanish\", \"German\", \"Dutch\", \"French\", \"Spanish\", \"French\", \"Portuguese\", \"Hungarian\", \"Chinese\", \"Russian\", \"German\", \"Hebrew\", \"Danish\"\n",
    "# Erstellung eines neuen List-Elements für die weitere Bearbeitung\n",
    "# Die Liste wurde aufgrund der relativ geringen Menge an Einträgen von Hand formatiert (Anführungszeichen und regelmäßiger Zeilenabstand)\n",
    "# Bei einer größeren Liste eher unvorteilhaft bis unmöglich"
   ]
  },
  {
   "cell_type": "code",
   "execution_count": 28,
   "id": "9edaf239",
   "metadata": {},
   "outputs": [
    {
     "data": {
      "text/plain": [
       "('Arabic',\n",
       " 'Catalan',\n",
       " 'Spanish',\n",
       " 'Italian',\n",
       " 'Russian',\n",
       " 'French',\n",
       " 'German',\n",
       " 'Bengali',\n",
       " 'Italian',\n",
       " 'French',\n",
       " 'Swedish',\n",
       " 'Japanese',\n",
       " 'Danish',\n",
       " 'Spanish',\n",
       " 'German',\n",
       " 'Dutch',\n",
       " 'French',\n",
       " 'Spanish',\n",
       " 'French',\n",
       " 'Portuguese',\n",
       " 'Hungarian',\n",
       " 'Chinese',\n",
       " 'Russian',\n",
       " 'German',\n",
       " 'Hebrew',\n",
       " 'Danish')"
      ]
     },
     "execution_count": 28,
     "metadata": {},
     "output_type": "execute_result"
    }
   ],
   "source": [
    "list_2"
   ]
  },
  {
   "cell_type": "code",
   "execution_count": 41,
   "id": "cce2f57c",
   "metadata": {},
   "outputs": [
    {
     "name": "stdout",
     "output_type": "stream",
     "text": [
      "{'French', 'Italian', 'Danish', 'German', 'Catalan', 'Spanish', 'Portuguese', 'Bengali', 'Swedish', 'Chinese', 'Hungarian', 'Japanese', 'Dutch', 'Arabic', 'Russian', 'Hebrew'}\n"
     ]
    }
   ],
   "source": [
    "final_list = set(list_2)\n",
    "print(final_list)\n",
    "\n",
    "# Eine erneute Dublettenbereinigung, die identische Einträge löscht"
   ]
  },
  {
   "cell_type": "code",
   "execution_count": 42,
   "id": "bd6686b6",
   "metadata": {},
   "outputs": [
    {
     "data": {
      "text/plain": [
       "{'Arabic',\n",
       " 'Bengali',\n",
       " 'Catalan',\n",
       " 'Chinese',\n",
       " 'Danish',\n",
       " 'Dutch',\n",
       " 'French',\n",
       " 'German',\n",
       " 'Hebrew',\n",
       " 'Hungarian',\n",
       " 'Italian',\n",
       " 'Japanese',\n",
       " 'Portuguese',\n",
       " 'Russian',\n",
       " 'Spanish',\n",
       " 'Swedish'}"
      ]
     },
     "execution_count": 42,
     "metadata": {},
     "output_type": "execute_result"
    }
   ],
   "source": [
    "final_list\n",
    "\n",
    "# Ausgabe der finalen und vollständig bereinigten Liste"
   ]
  },
  {
   "cell_type": "code",
   "execution_count": 43,
   "id": "ec9d62bf",
   "metadata": {},
   "outputs": [
    {
     "name": "stdout",
     "output_type": "stream",
     "text": [
      "['Arabic', 'Bengali', 'Catalan', 'Chinese', 'Danish', 'Dutch', 'French', 'German', 'Hebrew', 'Hungarian', 'Italian', 'Japanese', 'Portuguese', 'Russian', 'Spanish', 'Swedish']\n"
     ]
    }
   ],
   "source": [
    "print(sorted(final_list))\n",
    "\n",
    "# Alphabetische Sortierung der finalen Liste mit dem Befehl sorted()"
   ]
  },
  {
   "cell_type": "code",
   "execution_count": 44,
   "id": "472e9119",
   "metadata": {},
   "outputs": [
    {
     "data": {
      "text/plain": [
       "['Arabic',\n",
       " 'Bengali',\n",
       " 'Catalan',\n",
       " 'Chinese',\n",
       " 'Danish',\n",
       " 'Dutch',\n",
       " 'French',\n",
       " 'German',\n",
       " 'Hebrew',\n",
       " 'Hungarian',\n",
       " 'Italian',\n",
       " 'Japanese',\n",
       " 'Portuguese',\n",
       " 'Russian',\n",
       " 'Spanish',\n",
       " 'Swedish']"
      ]
     },
     "execution_count": 44,
     "metadata": {},
     "output_type": "execute_result"
    }
   ],
   "source": [
    "sorted(final_list)\n",
    "\n",
    "# Darstellung der alphabetisch sortierten Liste aller vorhandenen Sprachen, die nicht Englisch sind"
   ]
  },
  {
   "cell_type": "markdown",
   "id": "5cb59f41",
   "metadata": {},
   "source": [
    "# Erkenntnisse\n",
    "\n",
    "Die folgenden Sprachen, ausgenommen von Englisch, sind in der Zieldatei vorhanden:\n",
    "\n",
    "__'Arabic',\n",
    " 'Bengali',\n",
    " 'Catalan',\n",
    " 'Chinese',\n",
    " 'Danish',\n",
    " 'Dutch',\n",
    " 'French',\n",
    " 'German',\n",
    " 'Hebrew',\n",
    " 'Hungarian',\n",
    " 'Italian',\n",
    " 'Japanese',\n",
    " 'Portuguese',\n",
    " 'Russian',\n",
    " 'Spanish',\n",
    " 'Swedish'__"
   ]
  },
  {
   "cell_type": "code",
   "execution_count": null,
   "id": "e93428c5",
   "metadata": {},
   "outputs": [],
   "source": []
  }
 ],
 "metadata": {
  "kernelspec": {
   "display_name": "Python 3 (ipykernel)",
   "language": "python",
   "name": "python3"
  },
  "language_info": {
   "codemirror_mode": {
    "name": "ipython",
    "version": 3
   },
   "file_extension": ".py",
   "mimetype": "text/x-python",
   "name": "python",
   "nbconvert_exporter": "python",
   "pygments_lexer": "ipython3",
   "version": "3.9.7"
  }
 },
 "nbformat": 4,
 "nbformat_minor": 5
}
