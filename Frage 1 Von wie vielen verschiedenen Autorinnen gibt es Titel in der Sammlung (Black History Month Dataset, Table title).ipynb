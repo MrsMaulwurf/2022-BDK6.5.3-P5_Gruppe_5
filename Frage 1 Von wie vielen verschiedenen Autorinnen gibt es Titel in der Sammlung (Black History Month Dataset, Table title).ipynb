{
 "cells": [
  {
   "cell_type": "markdown",
   "id": "02dfecbe",
   "metadata": {},
   "source": [
    "Frage 1 Von wie vielen verschiedenen Autor*innen gibt es Titel in der Sammlung (Black History Month Dataset, Table title)"
   ]
  },
  {
   "cell_type": "code",
   "execution_count": null,
   "id": "78774543",
   "metadata": {},
   "outputs": [],
   "source": [
    "import urllib.request\n",
    "import pandas as pd\n",
    "\n",
    "#pandas importieren"
   ]
  },
  {
   "cell_type": "code",
   "execution_count": null,
   "id": "06e0738d",
   "metadata": {},
   "outputs": [],
   "source": [
    "url = \"https://raw.githubusercontent.com/MrsMaulwurf/2022-BDK6.5.3-P5_Gruppe_5/main/titles.csv\"\n",
    "# Variable url einführen mit Wert Link zur csv-Datei in GitHub\n",
    "\n",
    "title_file = \"titles_black_history_month.csv\"\n",
    "#Variable title_file einführen"
   ]
  },
  {
   "cell_type": "code",
   "execution_count": null,
   "id": "8c98562f",
   "metadata": {},
   "outputs": [],
   "source": [
    "urllib.request.urlretrieve(url, title_file)\n",
    "\n",
    "# library urllib und modul request mit methode urlretrieve (mit den 2 Argumenten für Start und Ziel)"
   ]
  },
  {
   "cell_type": "code",
   "execution_count": null,
   "id": "9ff0fcff",
   "metadata": {},
   "outputs": [],
   "source": [
    "titles = pd.read_csv(title_file)\n",
    "# csv einlesen und dataframe erzeugen"
   ]
  },
  {
   "cell_type": "code",
   "execution_count": null,
   "id": "984e6909",
   "metadata": {},
   "outputs": [],
   "source": [
    "titles"
   ]
  },
  {
   "cell_type": "code",
   "execution_count": 8,
   "id": "f5928a58",
   "metadata": {},
   "outputs": [],
   "source": [
    "# commit 1 dataframe erzeugen"
   ]
  },
  {
   "cell_type": "code",
   "execution_count": 11,
   "id": "637a8680",
   "metadata": {},
   "outputs": [
    {
     "data": {
      "text/plain": [
       "Index(['Title', 'Other titles', 'BL record ID', 'Type of resource',\n",
       "       'Content type', 'Material type', 'BNB number', 'ISBN', 'Name',\n",
       "       'Dates associated with name', 'Type of name', 'Role', 'All names',\n",
       "       'Series title', 'Number within series', 'Country of publication',\n",
       "       'Place of publication', 'Publisher', 'Date of publication', 'Edition',\n",
       "       'Physical description', 'Dewey classification', 'BL shelfmark',\n",
       "       'Topics', 'Genre', 'Languages', 'Notes'],\n",
       "      dtype='object')"
      ]
     },
     "execution_count": 11,
     "metadata": {},
     "output_type": "execute_result"
    }
   ],
   "source": [
    "titles.columns \n",
    "# gibt spaltennamen aus"
   ]
  },
  {
   "cell_type": "code",
   "execution_count": 12,
   "id": "b8d9e32e",
   "metadata": {},
   "outputs": [
    {
     "data": {
      "text/plain": [
       "0                       Bright, Sheila Pree\n",
       "1       Goldman, Robert M. (Robert Michael)\n",
       "2                             Serrano, Shea\n",
       "3                             Serrano, Shea\n",
       "4                                       NaN\n",
       "                       ...                 \n",
       "7788                        Lior, Mordechai\n",
       "7789                           Katorza, Ari\n",
       "7790                        Lior, Mordechai\n",
       "7791                         Fohlen, Claude\n",
       "7792                        Katsuta, Takuya\n",
       "Name: Name, Length: 7793, dtype: object"
      ]
     },
     "execution_count": 12,
     "metadata": {},
     "output_type": "execute_result"
    }
   ],
   "source": [
    "titles[\"Name\"]\n",
    "# gibt Spalte \"Name\" aus"
   ]
  },
  {
   "cell_type": "code",
   "execution_count": null,
   "id": "bc900e99",
   "metadata": {},
   "outputs": [],
   "source": [
    "# commit 2 spalte auswählen"
   ]
  },
  {
   "cell_type": "code",
   "execution_count": null,
   "id": "08c982b2",
   "metadata": {},
   "outputs": [],
   "source": [
    "# commit gleiche Namen gruppieren"
   ]
  },
  {
   "cell_type": "code",
   "execution_count": null,
   "id": "1a88002e",
   "metadata": {},
   "outputs": [],
   "source": [
    "# commit  gruppierte Namen zählen"
   ]
  },
  {
   "cell_type": "code",
   "execution_count": null,
   "id": "492f6ec8",
   "metadata": {},
   "outputs": [],
   "source": [
    "# commit 5 Visualisierung"
   ]
  }
 ],
 "metadata": {
  "kernelspec": {
   "display_name": "Python 3 (ipykernel)",
   "language": "python",
   "name": "python3"
  },
  "language_info": {
   "codemirror_mode": {
    "name": "ipython",
    "version": 3
   },
   "file_extension": ".py",
   "mimetype": "text/x-python",
   "name": "python",
   "nbconvert_exporter": "python",
   "pygments_lexer": "ipython3",
   "version": "3.9.7"
  }
 },
 "nbformat": 4,
 "nbformat_minor": 5
}
