{
 "cells": [
  {
   "cell_type": "code",
   "execution_count": 6,
   "id": "78774543",
   "metadata": {},
   "outputs": [],
   "source": [
    "import urllib.request\n",
    "import pandas as pd\n",
    "\n",
    "#pandas importieren"
   ]
  },
  {
   "cell_type": "code",
   "execution_count": 19,
   "id": "6844828f",
   "metadata": {},
   "outputs": [],
   "source": [
    "url = \"https://raw.githubusercontent.com/MrsMaulwurf/2022-BDK6.5.3-P5_Gruppe_5/main/titles.csv\"\n",
    "# Variable url einführen mit Wert Link zur csv-Datei in GitHub\n",
    "\n",
    "title_file = \"titles_black_history_month.csv\"\n",
    "#Variable title_file einführen"
   ]
  },
  {
   "cell_type": "code",
   "execution_count": 20,
   "id": "8bbd3894",
   "metadata": {},
   "outputs": [
    {
     "data": {
      "text/plain": [
       "('titles_black_history_month.csv', <http.client.HTTPMessage at 0x22c35779340>)"
      ]
     },
     "execution_count": 20,
     "metadata": {},
     "output_type": "execute_result"
    }
   ],
   "source": [
    "urllib.request.urlretrieve(url, title_file)\n",
    "\n",
    "# library urllib und modul request mit methode urlretrieve (mit den 2 Argumenten für Start und Ziel)"
   ]
  },
  {
   "cell_type": "code",
   "execution_count": 24,
   "id": "939a9c9e",
   "metadata": {},
   "outputs": [],
   "source": [
    "titles = pd.read_csv(title_file)\n",
    "# csv einlesen und dataframe erzeugen"
   ]
  },
  {
   "cell_type": "code",
   "execution_count": 23,
   "id": "3abcce2c",
   "metadata": {},
   "outputs": [
    {
     "data": {
      "text/plain": [
       "0       2018\n",
       "1       1990\n",
       "2       2015\n",
       "3       2015\n",
       "4       2009\n",
       "        ... \n",
       "7788    2017\n",
       "7789    2017\n",
       "7790    2017\n",
       "7791    1967\n",
       "7792    2011\n",
       "Name: Date of publication, Length: 7793, dtype: object"
      ]
     },
     "execution_count": 23,
     "metadata": {},
     "output_type": "execute_result"
    }
   ],
   "source": [
    "titles[\"Date of publication\"]\n",
    "# gibt Spalte \"Date of publication\" aus"
   ]
  }
 ],
 "metadata": {
  "kernelspec": {
   "display_name": "Python 3 (ipykernel)",
   "language": "python",
   "name": "python3"
  },
  "language_info": {
   "codemirror_mode": {
    "name": "ipython",
    "version": 3
   },
   "file_extension": ".py",
   "mimetype": "text/x-python",
   "name": "python",
   "nbconvert_exporter": "python",
   "pygments_lexer": "ipython3",
   "version": "3.9.7"
  }
 },
 "nbformat": 4,
 "nbformat_minor": 5
}
